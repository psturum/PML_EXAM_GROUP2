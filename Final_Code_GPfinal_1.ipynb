{
  "cells": [
    {
      "cell_type": "code",
      "execution_count": null,
      "metadata": {
        "colab": {
          "base_uri": "https://localhost:8080/"
        },
        "id": "KU4eEzZRTOcn",
        "outputId": "07737b12-0dbf-4e0e-c343-e36adb184fc5"
      },
      "outputs": [
        {
          "name": "stdout",
          "output_type": "stream",
          "text": [
            "Looking in indexes: https://pypi.org/simple, https://us-python.pkg.dev/colab-wheels/public/simple/\n",
            "Collecting pyro-ppl\n",
            "  Downloading pyro_ppl-1.8.4-py3-none-any.whl (730 kB)\n",
            "\u001b[2K     \u001b[90m━━━━━━━━━━━━━━━━━━━━━━━━━━━━━━━━━━━━━━\u001b[0m \u001b[32m730.7/730.7 KB\u001b[0m \u001b[31m10.5 MB/s\u001b[0m eta \u001b[36m0:00:00\u001b[0m\n",
            "\u001b[?25hRequirement already satisfied: tqdm>=4.36 in /usr/local/lib/python3.8/dist-packages (from pyro-ppl) (4.64.1)\n",
            "Requirement already satisfied: numpy>=1.7 in /usr/local/lib/python3.8/dist-packages (from pyro-ppl) (1.21.6)\n",
            "Requirement already satisfied: torch>=1.11.0 in /usr/local/lib/python3.8/dist-packages (from pyro-ppl) (1.13.1+cu116)\n",
            "Requirement already satisfied: opt-einsum>=2.3.2 in /usr/local/lib/python3.8/dist-packages (from pyro-ppl) (3.3.0)\n",
            "Collecting pyro-api>=0.1.1\n",
            "  Downloading pyro_api-0.1.2-py3-none-any.whl (11 kB)\n",
            "Requirement already satisfied: typing-extensions in /usr/local/lib/python3.8/dist-packages (from torch>=1.11.0->pyro-ppl) (4.4.0)\n",
            "Installing collected packages: pyro-api, pyro-ppl\n",
            "Successfully installed pyro-api-0.1.2 pyro-ppl-1.8.4\n",
            "Looking in indexes: https://pypi.org/simple, https://us-python.pkg.dev/colab-wheels/public/simple/\n",
            "Requirement already satisfied: arviz in /usr/local/lib/python3.8/dist-packages (0.12.1)\n",
            "Requirement already satisfied: xarray>=0.16.1 in /usr/local/lib/python3.8/dist-packages (from arviz) (2022.12.0)\n",
            "Requirement already satisfied: packaging in /usr/local/lib/python3.8/dist-packages (from arviz) (21.3)\n",
            "Requirement already satisfied: scipy>=0.19 in /usr/local/lib/python3.8/dist-packages (from arviz) (1.7.3)\n",
            "Requirement already satisfied: matplotlib>=3.0 in /usr/local/lib/python3.8/dist-packages (from arviz) (3.2.2)\n",
            "Requirement already satisfied: pandas>=0.23 in /usr/local/lib/python3.8/dist-packages (from arviz) (1.3.5)\n",
            "Requirement already satisfied: numpy>=1.12 in /usr/local/lib/python3.8/dist-packages (from arviz) (1.21.6)\n",
            "Requirement already satisfied: typing-extensions>=3.7.4.3 in /usr/local/lib/python3.8/dist-packages (from arviz) (4.4.0)\n",
            "Requirement already satisfied: xarray-einstats>=0.2 in /usr/local/lib/python3.8/dist-packages (from arviz) (0.4.0)\n",
            "Requirement already satisfied: netcdf4 in /usr/local/lib/python3.8/dist-packages (from arviz) (1.6.2)\n",
            "Requirement already satisfied: setuptools>=38.4 in /usr/local/lib/python3.8/dist-packages (from arviz) (57.4.0)\n",
            "Requirement already satisfied: pyparsing!=2.0.4,!=2.1.2,!=2.1.6,>=2.0.1 in /usr/local/lib/python3.8/dist-packages (from matplotlib>=3.0->arviz) (3.0.9)\n",
            "Requirement already satisfied: cycler>=0.10 in /usr/local/lib/python3.8/dist-packages (from matplotlib>=3.0->arviz) (0.11.0)\n",
            "Requirement already satisfied: kiwisolver>=1.0.1 in /usr/local/lib/python3.8/dist-packages (from matplotlib>=3.0->arviz) (1.4.4)\n",
            "Requirement already satisfied: python-dateutil>=2.1 in /usr/local/lib/python3.8/dist-packages (from matplotlib>=3.0->arviz) (2.8.2)\n",
            "Requirement already satisfied: pytz>=2017.3 in /usr/local/lib/python3.8/dist-packages (from pandas>=0.23->arviz) (2022.7)\n",
            "Requirement already satisfied: cftime in /usr/local/lib/python3.8/dist-packages (from netcdf4->arviz) (1.6.2)\n",
            "Requirement already satisfied: six>=1.5 in /usr/local/lib/python3.8/dist-packages (from python-dateutil>=2.1->matplotlib>=3.0->arviz) (1.15.0)\n",
            "Looking in indexes: https://pypi.org/simple, https://us-python.pkg.dev/colab-wheels/public/simple/\n",
            "Collecting gpytorch\n",
            "  Downloading gpytorch-1.9.1-py3-none-any.whl (250 kB)\n",
            "\u001b[2K     \u001b[90m━━━━━━━━━━━━━━━━━━━━━━━━━━━━━━━━━━━━━━━\u001b[0m \u001b[32m250.9/250.9 KB\u001b[0m \u001b[31m4.8 MB/s\u001b[0m eta \u001b[36m0:00:00\u001b[0m\n",
            "\u001b[?25hCollecting linear-operator>=0.2.0\n",
            "  Downloading linear_operator-0.3.0-py3-none-any.whl (155 kB)\n",
            "\u001b[2K     \u001b[90m━━━━━━━━━━━━━━━━━━━━━━━━━━━━━━━━━━━━━━\u001b[0m \u001b[32m155.6/155.6 KB\u001b[0m \u001b[31m12.5 MB/s\u001b[0m eta \u001b[36m0:00:00\u001b[0m\n",
            "\u001b[?25hRequirement already satisfied: scikit-learn in /usr/local/lib/python3.8/dist-packages (from gpytorch) (1.0.2)\n",
            "Requirement already satisfied: scipy in /usr/local/lib/python3.8/dist-packages (from linear-operator>=0.2.0->gpytorch) (1.7.3)\n",
            "Requirement already satisfied: torch>=1.11 in /usr/local/lib/python3.8/dist-packages (from linear-operator>=0.2.0->gpytorch) (1.13.1+cu116)\n",
            "Requirement already satisfied: joblib>=0.11 in /usr/local/lib/python3.8/dist-packages (from scikit-learn->gpytorch) (1.2.0)\n",
            "Requirement already satisfied: threadpoolctl>=2.0.0 in /usr/local/lib/python3.8/dist-packages (from scikit-learn->gpytorch) (3.1.0)\n",
            "Requirement already satisfied: numpy>=1.14.6 in /usr/local/lib/python3.8/dist-packages (from scikit-learn->gpytorch) (1.21.6)\n",
            "Requirement already satisfied: typing-extensions in /usr/local/lib/python3.8/dist-packages (from torch>=1.11->linear-operator>=0.2.0->gpytorch) (4.4.0)\n",
            "Installing collected packages: linear-operator, gpytorch\n",
            "Successfully installed gpytorch-1.9.1 linear-operator-0.3.0\n"
          ]
        }
      ],
      "source": [
        " !pip3 install pyro-ppl\n",
        " !pip3 install arviz\n",
        " !pip3 install gpytorch"
      ]
    },
    {
      "cell_type": "code",
      "execution_count": null,
      "metadata": {
        "id": "-T7VwvCsTQ0v"
      },
      "outputs": [],
      "source": [
        "# Import Standard modules\n",
        "import os\n",
        "import arviz\n",
        "import numpy as np\n",
        "import seaborn as sns\n",
        "import matplotlib.pyplot as plt\n",
        "\n",
        "# Import Pyro modules\n",
        "import torch\n",
        "import pyro\n",
        "import pyro.contrib.gp as gp\n",
        "import pyro.distributions as dist\n"
      ]
    },
    {
      "cell_type": "code",
      "execution_count": null,
      "metadata": {
        "id": "m9pNWbY2TUyk"
      },
      "outputs": [],
      "source": [
        "def f(X):\n",
        "    return torch.sin(20.0 * X) + 2.0 * torch.cos(14.0 * X) - 2.0 * torch.sin(6.0 * X)\n"
      ]
    },
    {
      "cell_type": "code",
      "execution_count": null,
      "metadata": {
        "id": "DaxVwNv4TVCA"
      },
      "outputs": [],
      "source": [
        "def Predictive_Posterior (x, xtest, y):\n",
        "    \"\"\"\n",
        "    This method generates the mean and covariance matrix\n",
        "    for predictive posterior.\n",
        "\n",
        "    Parameters\n",
        "    ----------\n",
        "    x : torch.tensor\n",
        "        The independet input variables.\n",
        "    xtest : torch.tensor\n",
        "        The test set for the indenpendent input variables.\n",
        "    y : torch.tensor\n",
        "        The dependent input variable.\n",
        "\n",
        "    Returns\n",
        "    -------\n",
        "    Mean : torch.tensor\n",
        "        The mean of the predictive posterier.\n",
        "    Covar : torch.tensor\n",
        "        The covariance matrix for the predictive posterier.\n",
        "\n",
        "    \"\"\"\n",
        "    # Nois and Eta parameter.\n",
        "    Noise = torch.mul(torch.eye(x.size(dim = 0)), 1e-4)\n",
        "    Eta = torch.mul(torch.eye(xtest.size(dim = 0)), 0.0)\n",
        "    \n",
        "    # Kernels that are needed for calculations of the mean and covariance.\n",
        "    K = kernel(x)\n",
        "    K_Star = kernel(xtest, x)\n",
        "    K_X_Star = kernel(x, xtest)\n",
        "    K_Star_Star = kernel(xtest, xtest)\n",
        "    K_Inv = torch.inverse(torch.add(K, Noise))    \n",
        "    K_Matmul = torch.matmul(K_Star, K_Inv)\n",
        "    \n",
        "    # Calculate the mean vector and covariance marix.\n",
        "    Mean = torch.matmul(K_Matmul, y)\n",
        "    Covar = torch.sub(K_Star_Star, torch.matmul(K_Matmul, K_X_Star))\n",
        "    Covar = torch.add(Covar, Eta)\n",
        "    Det_Covar = torch.det(Covar)\n",
        "\n",
        "    # Make Covariance matrix positive definet\n",
        "    eta = 0\n",
        "    while Det_Covar <= 0.1:\n",
        "      eta += 0.1\n",
        "      Eta = torch.mul(torch.eye(xtest.size(dim = 0)), eta)\n",
        "      Covar = torch.add(Covar, Eta)\n",
        "      Det_Covar = torch.det(Covar)\n",
        "\n",
        "    return Mean, Covar"
      ]
    },
    {
      "cell_type": "code",
      "execution_count": null,
      "metadata": {
        "id": "4Aw_cvWzofJe"
      },
      "outputs": [],
      "source": [
        "def get_mean_and_var(kern_l, kern_v, xtest):\n",
        "  sample_size = len(kern_l)\n",
        "  m_sum = 0\n",
        "  v_sum = 0\n",
        "  for i in range(sample_size):\n",
        "    gpr.kernel.variance = kern_v[i]\n",
        "    gpr.kernel.lengthscale = kern_l[i]\n",
        "    #mean, covar = predictive_posterior(x=X,xtest=Xtest,y=y)\n",
        "    mean, covar = gpr.forward(xtest, noiseless=False)\n",
        "    m_sum += mean\n",
        "    v_sum += covar\n",
        "  return m_sum/sample_size, v_sum/sample_size\n"
      ]
    },
    {
      "cell_type": "code",
      "execution_count": null,
      "metadata": {
        "id": "iHz4bDEeTVFZ"
      },
      "outputs": [],
      "source": [
        "X = torch.tensor([-1.0, -1.0/2.0, 0.0, 1.0/2.0, 1.0])\n",
        "y = f(X)"
      ]
    },
    {
      "cell_type": "code",
      "execution_count": null,
      "metadata": {
        "id": "PXnyPDmQThyA"
      },
      "outputs": [],
      "source": [
        "kernel = gp.kernels.RBF(input_dim = 1)\n",
        "kernel.variance = pyro.nn.PyroSample(dist.LogNormal(torch.tensor(0.0), torch.tensor(2.0)))\n",
        "kernel.lengthscale = pyro.nn.PyroSample(dist.LogNormal(torch.tensor(-1.0), torch.tensor(1.0)))\n",
        "gpr = gp.models.GPRegression(X, y, kernel, noise = torch.tensor(1e-4))"
      ]
    },
    {
      "cell_type": "code",
      "execution_count": null,
      "metadata": {
        "id": "l56lOSRoTh0W"
      },
      "outputs": [],
      "source": [
        "S = 2000\n",
        "W = 500\n",
        "C = 1"
      ]
    },
    {
      "cell_type": "code",
      "execution_count": null,
      "metadata": {
        "colab": {
          "base_uri": "https://localhost:8080/"
        },
        "id": "c8OqKvnRTh20",
        "outputId": "9a1b03a8-380c-4db6-884a-d9c12cb323cd"
      },
      "outputs": [
        {
          "name": "stderr",
          "output_type": "stream",
          "text": [
            "Sample: 100%|██████████| 2500/2500 [00:53, 46.63it/s, step size=3.82e-01, acc. prob=0.844]\n"
          ]
        }
      ],
      "source": [
        "nuts_kernel = pyro.infer.mcmc.NUTS(gpr.model, adapt_step_size = True)\n",
        "mcmc = pyro.infer.MCMC(nuts_kernel, num_samples = S, warmup_steps = W, num_chains = C)\n",
        "mcmc.run()"
      ]
    },
    {
      "cell_type": "code",
      "execution_count": null,
      "metadata": {
        "colab": {
          "base_uri": "https://localhost:8080/"
        },
        "id": "7oAH470iTniV",
        "outputId": "ba95ea33-6dbc-4f3c-85c5-d82215f964cb"
      },
      "outputs": [
        {
          "name": "stdout",
          "output_type": "stream",
          "text": [
            "\n",
            "                          mean       std    median      5.0%     95.0%     n_eff     r_hat\n",
            "  kernel.lengthscale      0.32      0.18      0.29      0.03      0.58    411.82      1.00\n",
            "     kernel.variance      4.68      4.38      3.30      0.67      9.41    460.03      1.00\n",
            "\n",
            "Number of divergences: 4\n"
          ]
        }
      ],
      "source": [
        "mcmc.summary(prob = 0.9)"
      ]
    },
    {
      "cell_type": "code",
      "execution_count": null,
      "metadata": {
        "colab": {
          "base_uri": "https://localhost:8080/",
          "height": 485
        },
        "id": "ggO-bXNSTrzV",
        "outputId": "4d39e246-e0dc-489f-9386-b8e9ea671dea"
      },
      "outputs": [
        {
          "data": {
            "image/png": "[encoded data removed]",
            "text/plain": [
              "<Figure size 720x480 with 1 Axes>"
            ]
          },
          "metadata": {},
          "output_type": "display_data"
        }
      ],
      "source": [
        "# Get the samples from the posterior\n",
        "name = \"kernel.\"\n",
        "posterior_vr = mcmc.get_samples(500)[name + \"variance\"]\n",
        "posterior_ls = mcmc.get_samples(500)[name + \"lengthscale\"]\n",
        "\n",
        "# Log - Log plot of the samples\n",
        "fig, ax = plt.subplots(1, 1, dpi = 120)\n",
        "ax.scatter(posterior_vr.detach().numpy(), posterior_ls.detach().numpy())\n",
        "ax.set_xlabel(\"Variance\")\n",
        "ax.set_ylabel(\"Length scale\")\n",
        "ax.set_title(\"Scatter plot of 500 samples from \" + r\"$p\\left(\\theta|\\mathcal{D}\\right)$\")\n",
        "ax.set_xscale(\"log\")\n",
        "ax.set_yscale(\"log\")\n",
        "plt.tight_layout()\n",
        "plt.show()"
      ]
    },
    {
      "cell_type": "code",
      "execution_count": null,
      "metadata": {
        "colab": {
          "base_uri": "https://localhost:8080/"
        },
        "id": "wUI6xuXys0Wc",
        "outputId": "e2f1e8af-5bdb-40bc-e543-c046e3d4656d"
      },
      "outputs": [
        {
          "name": "stderr",
          "output_type": "stream",
          "text": [
            "Sample: 100%|██████████| 500/500 [00:10, 46.18it/s, step size=2.85e-01, acc. prob=0.841]\n"
          ]
        }
      ],
      "source": [
        "kernel = gp.kernels.RBF(input_dim = 1)\n",
        "kernel.variance = pyro.nn.PyroSample(dist.LogNormal(torch.tensor(0.0), torch.tensor(2.0)))\n",
        "kernel.lengthscale = pyro.nn.PyroSample(dist.LogNormal(torch.tensor(-1.0), torch.tensor(1.0)))\n",
        "gpr = gp.models.GPRegression(X, y, kernel, noise = torch.tensor(1e-4))\n",
        "nuts_kernel = pyro.infer.mcmc.NUTS(gpr.model, adapt_step_size = True)\n",
        "mcmc = pyro.infer.MCMC(nuts_kernel, num_samples = 400, warmup_steps = 100, num_chains = 1)\n",
        "mcmc.run()"
      ]
    },
    {
      "cell_type": "code",
      "execution_count": null,
      "metadata": {
        "colab": {
          "background_save": true,
          "base_uri": "https://localhost:8080/"
        },
        "id": "D96H12GyTs8f",
        "outputId": "200b1610-9eaa-4789-b951-ccba984b4f0e"
      },
      "outputs": [
        {
          "name": "stderr",
          "output_type": "stream",
          "text": [
            "Sample: 100%|██████████| 200/200 [00:04, 49.99it/s, step size=5.67e-01, acc. prob=0.842]\n",
            "Sample: 100%|██████████| 200/200 [00:02, 68.18it/s, step size=6.60e-01, acc. prob=0.818]\n",
            "Sample: 100%|██████████| 200/200 [00:04, 40.48it/s, step size=3.41e-01, acc. prob=0.959]\n",
            "Sample: 100%|██████████| 200/200 [00:02, 80.42it/s, step size=1.05e+00, acc. prob=0.617]\n",
            "Sample: 100%|██████████| 200/200 [00:04, 49.01it/s, step size=6.81e-01, acc. prob=0.845]\n",
            "Sample: 100%|██████████| 200/200 [00:09, 22.00it/s, step size=1.92e-01, acc. prob=0.995]\n",
            "Sample: 100%|██████████| 200/200 [00:03, 51.42it/s, step size=8.50e-01, acc. prob=0.789]\n",
            "Sample: 100%|██████████| 200/200 [00:03, 63.01it/s, step size=1.27e+00, acc. prob=0.646]\n",
            "Warmup:   6%|▋         | 13/200 [00:29,  3.18s/it, step size=1.31e-05, acc. prob=0.587]"
          ]
        }
      ],
      "source": [
        "N = 200\n",
        "i = 0\n",
        "K = 10\n",
        "Xt = X\n",
        "yt = y\n",
        "Xopt = torch.empty(0, dtype=  float)\n",
        "yopt = torch.empty(0, dtype=  float)\n",
        "Candidat_Set = torch.linspace(-1.0, 1.0, N)\n",
        "name = \"kernel.\"\n",
        "fig, ax = plt.subplots(1, 3, dpi = 120, figsize = (15, 5) , sharey = True)\n",
        "for k in range(K+1):\n",
        "    # Sample the posterier\n",
        "    pyro.clear_param_store()\n",
        "    kernel = gp.kernels.RBF(input_dim = 1)\n",
        "    kernel.variance = pyro.nn.PyroSample(dist.LogNormal(torch.tensor(0.0), torch.tensor(2.0)))\n",
        "    kernel.lengthscale = pyro.nn.PyroSample(dist.LogNormal(torch.tensor(-1.0), torch.tensor(1.0)))\n",
        "    gpr = gp.models.GPRegression(Xt, yt, kernel, noise = torch.tensor(1e-4))\n",
        "    nuts_kernel = pyro.infer.mcmc.NUTS(gpr.model, adapt_step_size = True)\n",
        "    mcmc = pyro.infer.MCMC(nuts_kernel, num_samples = 150, warmup_steps = 50, num_chains = 1)\n",
        "    mcmc.run()\n",
        "    sample = mcmc.get_samples(1)\n",
        "    all_samples = mcmc.get_samples()\n",
        "    posterior_vr_bo = sample[name + \"variance\"]\n",
        "    posterior_ls_bo = sample[name + \"lengthscale\"]\n",
        "    posterior_vr = all_samples[name + \"variance\"]\n",
        "    posterior_ls = all_samples[name + \"lengthscale\"]\n",
        "    \n",
        "    # Update the kernal parameters\n",
        "    pyro.clear_param_store()\n",
        "    kernel.lengthscale = posterior_ls_bo\n",
        "    kernel.variance = posterior_vr_bo\n",
        "    \n",
        "    # Construct f_prime sampling function\n",
        "    mean, Covar = Predictive_Posterior(Xt, Candidat_Set, yt)\n",
        "    f_prime = dist.MultivariateNormal(mean, Covar).sample()\n",
        "    #f_prime = dist.MultivariateNormal(mean, scale_tril=torch.tril(Covar)).sample()\n",
        "    \n",
        "    \n",
        "    \n",
        "    # Locate minimum\n",
        "    #p = torch.argmin(f_prime)\n",
        "    mu, variance = gpr(Candidat_Set, full_cov=False, noiseless=False)\n",
        "    sigma = variance.sqrt()\n",
        "    p = torch.argmin(mu - 1.5 * sigma)\n",
        "    fx = f(Candidat_Set[p].unsqueeze(0))\n",
        "    \n",
        "    # Update dataset\n",
        "    Xt = torch.cat([Xt, Candidat_Set[p].unsqueeze(0)])\n",
        "    yt = torch.cat([yt, fx])\n",
        "    \n",
        "    # Set op optimal candidat points\n",
        "    Xopt = torch.cat([Xopt, Candidat_Set[p].unsqueeze(0)])\n",
        "    yopt = torch.cat([yopt, fx])\n",
        "    \n",
        "    if k in [0, 5, 10]:\n",
        "        \n",
        "        mx, vr = get_mean_and_var(posterior_ls, posterior_vr, Candidat_Set)\n",
        "        std = np.diag(vr.diag().sqrt().detach().numpy())\n",
        "        mx = mx.detach().numpy()\n",
        "        ax[i].set_title(\"Iteration \" + str(k))\n",
        "        if k == 0:\n",
        "            ax[i].set_ylabel(r\"$f\\left(x^*\\right)$\")\n",
        "        ax[i].set_xlabel(r\"$x^*$\")\n",
        "        ax[i].plot(Candidat_Set, f_prime, color = \"blue\", label = r\"$f^*$\")\n",
        "        ax[i].plot(Candidat_Set, mx, color = \"red\", label = r\"$m(x^*)$\")\n",
        "        ax[i].plot(Candidat_Set, f(Candidat_Set) , color = \"green\", label = r\"$f(x)$\")\n",
        "        ax[i].fill_between(Candidat_Set.detach().numpy(), (mx - 2.0 * std), (mx + 2.0 * std), color = \"C0\", alpha = 0.3, label = r\"$m(x*)\\pm 2\\sqrt{v\\left(x*\\right)}$\")\n",
        "        ax[i].scatter(Xopt.detach().numpy(), yopt.detach().numpy(), color = \"orange\", label = r\"Added sample points $\\left(x^*_p,\\,f\\left(x^*_p\\right)\\right)$\")\n",
        "        ax[i].legend()\n",
        "        i += 1\n",
        "\n",
        "plt.tight_layout()\n",
        "plt.show()"
      ]
    }
  ],
  "metadata": {
    "colab": {
      "provenance": []
    },
    "kernelspec": {
      "display_name": "Python 3",
      "name": "python3"
    },
    "language_info": {
      "name": "python"
    }
  },
  "nbformat": 4,
  "nbformat_minor": 0
}